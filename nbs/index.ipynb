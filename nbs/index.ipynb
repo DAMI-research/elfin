{
 "cells": [
  {
   "cell_type": "code",
   "execution_count": null,
   "metadata": {},
   "outputs": [],
   "source": [
    "#| hide\n",
    "from elfin.core import *"
   ]
  },
  {
   "attachments": {},
   "cell_type": "markdown",
   "metadata": {},
   "source": [
    "# Welcome to **Elfin**\n",
    "> Elfin stands for <u>E</u>asy ana<u>l</u>ysis for <u>f</u>unctional <u>i</u>maging of <u>n</u>eurons\n",
    "\n",
    "\n",
    "Advancements in new genetic indicators and novel microscopy methods have led to rapid development in the field of functional imaging of neurons. This includes techniques like calcium imaging, voltage imaging, and imaging of other neurotransmitters such as dopamine and serotonin. To address the complexity and difficulty associated with processing such data, the Python package ***Elfin*** was developed. ***Elfin*** offers modularized designs for different tasks including motion correction, trace/image/video denoising, and signal extraction, etc. , all equipped with cutting-edge machine learning methods. Additionally, a user-friendly pipeline allows for seamless 1-click running of the entire analysis. Contributions from the community are warmly welcomed, fostering collaboration and continuous improvement of the package.\n",
    "\n",
    "With ***Elfin***, researchers can to fully harness the potential of functional imaging for addressing fundamental neuroscience questions. \n",
    "\n",
    "# <!-- - image: /images/layered.png -->"
   ]
  },
  {
   "cell_type": "markdown",
   "metadata": {},
   "source": [
    "## Install"
   ]
  },
  {
   "cell_type": "code",
   "execution_count": null,
   "metadata": {},
   "outputs": [],
   "source": []
  },
  {
   "cell_type": "markdown",
   "metadata": {},
   "source": [
    "```sh\n",
    "pip install elfin\n",
    "```"
   ]
  },
  {
   "cell_type": "markdown",
   "metadata": {},
   "source": [
    "## How to use\n",
    "\n",
    "Fill me in please! Don't forget code examples:"
   ]
  },
  {
   "attachments": {},
   "cell_type": "markdown",
   "metadata": {},
   "source": [
    "## Citing *Elfin* and related papers"
   ]
  },
  {
   "cell_type": "markdown",
   "metadata": {},
   "source": [
    "## Main developers \n",
    "* [Pengcheng Zhou](zhoupc.github.io), zhoupc@gmail.com"
   ]
  },
  {
   "cell_type": "markdown",
   "metadata": {},
   "source": [
    "## Acknowledgement \n",
    "\n",
    "### data \n",
    "\n",
    "### code \n",
    "\n",
    "### feedbacks "
   ]
  },
  {
   "cell_type": "markdown",
   "metadata": {},
   "source": [
    "## Related repositories "
   ]
  },
  {
   "cell_type": "markdown",
   "metadata": {},
   "source": [
    "## Copyright\n",
    "\n",
    "This program is free software: you can redistribute it and/or modify it under the terms of the GNU General Public License as published by the Free Software Foundation, either version 3 of the License, or (at your option) any later version. You **HAVE** to contact [Pengcheng Zhou](zhoupc1988@gmail.com) for **commercial use**. \n",
    "\n",
    "This program is distributed in the hope that it will be useful, but WITHOUT ANY WARRANTY; without even the implied warranty of MERCHANTABILITY or FITNESS FOR A PARTICULAR PURPOSE. See the GNU General Public License for more details.\n",
    "\n",
    "You should have received a copy of the GNU General Public License along with this program. If not, see http://www.gnu.org/licenses/."
   ]
  },
  {
   "cell_type": "markdown",
   "metadata": {},
   "source": []
  },
  {
   "cell_type": "code",
   "execution_count": null,
   "metadata": {},
   "outputs": [],
   "source": []
  }
 ],
 "metadata": {
  "kernelspec": {
   "display_name": "python3",
   "language": "python",
   "name": "python3"
  }
 },
 "nbformat": 4,
 "nbformat_minor": 4
}
